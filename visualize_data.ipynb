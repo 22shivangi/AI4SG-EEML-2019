{
 "cells": [
  {
   "cell_type": "code",
   "execution_count": 5,
   "metadata": {},
   "outputs": [
    {
     "name": "stdout",
     "output_type": "stream",
     "text": [
      "test_electricity.csv\n",
      "train_electricity.csv\n",
      "\n"
     ]
    }
   ],
   "source": [
    "# This Python 3 environment comes with many helpful analytics libraries installed\n",
    "# It is defined by the kaggle/python docker image: https://github.com/kaggle/docker-python\n",
    "# For example, here's several helpful packages to load in \n",
    "\n",
    "import numpy as np # linear algebra\n",
    "import pandas as pd # data processing, CSV file I/O (e.g. pd.read_csv)\n",
    "import seaborn as sns # data visualization library  \n",
    "import matplotlib.pyplot as plt\n",
    "# Input data files are available in the \"../input/\" directory.\n",
    "# For example, running this (by clicking run or pressing Shift+Enter) will list the files in the input directory\n",
    "import time\n",
    "from subprocess import check_output\n",
    "print(check_output([\"ls\", \"input/\"]).decode(\"utf8\"))\n",
    "\n",
    "# Any results you write to the current directory are saved as output."
   ]
  },
  {
   "cell_type": "code",
   "execution_count": 6,
   "metadata": {},
   "outputs": [
    {
     "name": "stdout",
     "output_type": "stream",
     "text": [
      "Dataset has 419403 entries.\n",
      "\n",
      "\tColumn               | Type     | Min          | Max         \n",
      "\n",
      "\tDate                 | int64    | 1262487660.0 | 1514947775.0\n",
      "\tConsumption_MW       | float64  |         44.0 |      26209.0\n",
      "\tCoal_MW              | float64  |       -485.0 |       5702.0\n",
      "\tGas_MW               | float64  |       -414.0 |       2666.0\n",
      "\tHidroelectric_MW     | float64  |          0.0 |       4728.0\n",
      "\tNuclear_MW           | float64  |          0.0 |       1450.0\n",
      "\tWind_MW              | float64  |       -521.0 |       7944.0\n",
      "\tSolar_MW             | float64  |         -6.0 |        859.0\n",
      "\tBiomass_MW           | float64  |          0.0 |        110.0\n",
      "\tProduction_MW        | float64  |          0.0 |      11295.0\n"
     ]
    }
   ],
   "source": [
    "df = pd.read_csv(\"input/train_electricity.csv\")\n",
    "\n",
    "print(\"Dataset has\", len(df), \"entries.\")\n",
    "\n",
    "print(f\"\\n\\t{'Column':20s} | {'Type':8s} | {'Min':12s} | {'Max':12s}\\n\")\n",
    "for col_name in df.columns:\n",
    "    col = df[col_name]\n",
    "    print(f\"\\t{col_name:20s} | {str(col.dtype):8s} | {col.min():12.1f} | {col.max():12.1f}\")"
   ]
  },
  {
   "cell_type": "code",
   "execution_count": 8,
   "metadata": {},
   "outputs": [
    {
     "data": {
      "text/html": [
       "<div>\n",
       "<style scoped>\n",
       "    .dataframe tbody tr th:only-of-type {\n",
       "        vertical-align: middle;\n",
       "    }\n",
       "\n",
       "    .dataframe tbody tr th {\n",
       "        vertical-align: top;\n",
       "    }\n",
       "\n",
       "    .dataframe thead th {\n",
       "        text-align: right;\n",
       "    }\n",
       "</style>\n",
       "<table border=\"1\" class=\"dataframe\">\n",
       "  <thead>\n",
       "    <tr style=\"text-align: right;\">\n",
       "      <th></th>\n",
       "      <th>Date</th>\n",
       "      <th>Consumption_MW</th>\n",
       "      <th>Coal_MW</th>\n",
       "      <th>Gas_MW</th>\n",
       "      <th>Hidroelectric_MW</th>\n",
       "      <th>Nuclear_MW</th>\n",
       "      <th>Wind_MW</th>\n",
       "      <th>Solar_MW</th>\n",
       "      <th>Biomass_MW</th>\n",
       "      <th>Production_MW</th>\n",
       "    </tr>\n",
       "  </thead>\n",
       "  <tbody>\n",
       "    <tr>\n",
       "      <th>0</th>\n",
       "      <td>1262487660</td>\n",
       "      <td>5302.0</td>\n",
       "      <td>1754.0</td>\n",
       "      <td>1144.0</td>\n",
       "      <td>1391.0</td>\n",
       "      <td>706.0</td>\n",
       "      <td>0.0</td>\n",
       "      <td>0.0</td>\n",
       "      <td>0.0</td>\n",
       "      <td>4995.0</td>\n",
       "    </tr>\n",
       "    <tr>\n",
       "      <th>1</th>\n",
       "      <td>1262488200</td>\n",
       "      <td>5318.0</td>\n",
       "      <td>1777.0</td>\n",
       "      <td>1145.0</td>\n",
       "      <td>1468.0</td>\n",
       "      <td>708.0</td>\n",
       "      <td>0.0</td>\n",
       "      <td>0.0</td>\n",
       "      <td>0.0</td>\n",
       "      <td>5097.0</td>\n",
       "    </tr>\n",
       "    <tr>\n",
       "      <th>2</th>\n",
       "      <td>1262488800</td>\n",
       "      <td>5268.0</td>\n",
       "      <td>1743.0</td>\n",
       "      <td>1139.0</td>\n",
       "      <td>1361.0</td>\n",
       "      <td>708.0</td>\n",
       "      <td>0.0</td>\n",
       "      <td>0.0</td>\n",
       "      <td>0.0</td>\n",
       "      <td>4951.0</td>\n",
       "    </tr>\n",
       "    <tr>\n",
       "      <th>3</th>\n",
       "      <td>1262489400</td>\n",
       "      <td>5358.0</td>\n",
       "      <td>1759.0</td>\n",
       "      <td>1142.0</td>\n",
       "      <td>1449.0</td>\n",
       "      <td>707.0</td>\n",
       "      <td>0.0</td>\n",
       "      <td>0.0</td>\n",
       "      <td>0.0</td>\n",
       "      <td>5057.0</td>\n",
       "    </tr>\n",
       "    <tr>\n",
       "      <th>4</th>\n",
       "      <td>1262490060</td>\n",
       "      <td>5327.0</td>\n",
       "      <td>1764.0</td>\n",
       "      <td>1142.0</td>\n",
       "      <td>1417.0</td>\n",
       "      <td>709.0</td>\n",
       "      <td>0.0</td>\n",
       "      <td>0.0</td>\n",
       "      <td>0.0</td>\n",
       "      <td>5031.0</td>\n",
       "    </tr>\n",
       "  </tbody>\n",
       "</table>\n",
       "</div>"
      ],
      "text/plain": [
       "         Date  Consumption_MW  Coal_MW  Gas_MW  Hidroelectric_MW  Nuclear_MW  \\\n",
       "0  1262487660          5302.0   1754.0  1144.0            1391.0       706.0   \n",
       "1  1262488200          5318.0   1777.0  1145.0            1468.0       708.0   \n",
       "2  1262488800          5268.0   1743.0  1139.0            1361.0       708.0   \n",
       "3  1262489400          5358.0   1759.0  1142.0            1449.0       707.0   \n",
       "4  1262490060          5327.0   1764.0  1142.0            1417.0       709.0   \n",
       "\n",
       "   Wind_MW  Solar_MW  Biomass_MW  Production_MW  \n",
       "0      0.0       0.0         0.0         4995.0  \n",
       "1      0.0       0.0         0.0         5097.0  \n",
       "2      0.0       0.0         0.0         4951.0  \n",
       "3      0.0       0.0         0.0         5057.0  \n",
       "4      0.0       0.0         0.0         5031.0  "
      ]
     },
     "execution_count": 8,
     "metadata": {},
     "output_type": "execute_result"
    }
   ],
   "source": [
    "df.head()"
   ]
  },
  {
   "cell_type": "code",
   "execution_count": 9,
   "metadata": {},
   "outputs": [
    {
     "name": "stdout",
     "output_type": "stream",
     "text": [
      "Index(['Date', 'Consumption_MW', 'Coal_MW', 'Gas_MW', 'Hidroelectric_MW',\n",
      "       'Nuclear_MW', 'Wind_MW', 'Solar_MW', 'Biomass_MW', 'Production_MW'],\n",
      "      dtype='object')\n"
     ]
    }
   ],
   "source": [
    "# feature names as a list\n",
    "col = df.columns       # .columns gives columns names in data \n",
    "print(col)"
   ]
  },
  {
   "cell_type": "code",
   "execution_count": null,
   "metadata": {},
   "outputs": [],
   "source": []
  }
 ],
 "metadata": {
  "kernelspec": {
   "display_name": "Python 3",
   "language": "python",
   "name": "python3"
  },
  "language_info": {
   "codemirror_mode": {
    "name": "ipython",
    "version": 3
   },
   "file_extension": ".py",
   "mimetype": "text/x-python",
   "name": "python",
   "nbconvert_exporter": "python",
   "pygments_lexer": "ipython3",
   "version": "3.6.5"
  }
 },
 "nbformat": 4,
 "nbformat_minor": 2
}
